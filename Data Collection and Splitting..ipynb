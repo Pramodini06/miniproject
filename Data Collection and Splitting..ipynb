{
  "nbformat": 4,
  "nbformat_minor": 0,
  "metadata": {
    "colab": {
      "provenance": [],
      "authorship_tag": "ABX9TyM323h26TODL79SRmBhe/dN",
      "include_colab_link": true
    },
    "kernelspec": {
      "name": "python3",
      "display_name": "Python 3"
    },
    "language_info": {
      "name": "python"
    }
  },
  "cells": [
    {
      "cell_type": "markdown",
      "metadata": {
        "id": "view-in-github",
        "colab_type": "text"
      },
      "source": [
        "<a href=\"https://colab.research.google.com/github/Pramodini06/miniproject/blob/main/Data%20Collection%20and%20Splitting..ipynb\" target=\"_parent\"><img src=\"https://colab.research.google.com/assets/colab-badge.svg\" alt=\"Open In Colab\"/></a>"
      ]
    },
    {
      "cell_type": "code",
      "execution_count": null,
      "metadata": {
        "id": "ne7sSaEoT6c_"
      },
      "outputs": [],
      "source": [
        "\n",
        "from tensorflow.keras.preprocessing import image_dataset_from_directory\n",
        "\n",
        "\n",
        "# Collecting Dataset from Path\n",
        "dataset = image_dataset_from_directory(\n",
        "    \"Path\",\n",
        "    shuffle=True,\n",
        "    batch_size=32,\n",
        "    image_size=(299, 299),\n",
        ")\n",
        "\n",
        "# Class Information\n",
        "class_names = dataset.class_names\n",
        "print(\"Class Names:\", class_names)\n",
        "print(\"Number of Classes:\", len(class_names))\n",
        "\n",
        "# Find the batch size\n",
        "for images, labels in dataset.take(1):  # Take one batch from the dataset\n",
        "    print(\"Batch Size:\", images.shape[0])\n",
        "    print(\"Image Size:\", images.shape[1:])\n",
        "\n",
        "    # Check the data types and shapes\n",
        "    print(\"Image Data Type:\", images.dtype)\n",
        "    print(\"Label Data Type:\", labels.dtype)\n",
        "    print(\"Label Shape:\", labels.shape)\n",
        "    print(\"Labels in Batch:\", labels.numpy())\n",
        "\n",
        "# Total number of batches in the dataset\n",
        "total_batches = len(dataset)\n",
        "print(\"Total Number of Batches:\", total_batches)\n",
        "\n",
        "# Total number of images in the dataset\n",
        "total_images = total_batches * images.shape[0]\n",
        "print(\"Total Number of Images:\", total_images)\n",
        "\n",
        "# Data Split\n",
        "def get_dataset_partisions_tf(ds, train_split=0.75, val_split=0.15, test_split=0.1, shuffle=True, shuffle_size=10000):\n",
        "    if shuffle:\n",
        "        ds = ds.shuffle(shuffle_size, seed=12)\n",
        "    dataset_size = len(ds)\n",
        "    train_size = int(train_split * dataset_size)\n",
        "    val_size = int(val_split * dataset_size)\n",
        "    test_size = int(test_split * dataset_size)\n",
        "    train_ds = ds.take(train_size)\n",
        "    remaining_ds = ds.skip(train_size)\n",
        "    val_ds = remaining_ds.take(val_size)\n",
        "    test_ds = remaining_ds.skip(val_size)\n",
        "\n",
        "    return train_ds, val_ds, test_ds\n",
        "\n",
        "\n",
        "train_data, val_data, test_data = get_dataset_partisions_tf(dataset)\n",
        "print(\"Train Data: \",len(train_data), \"Validation Data: \",len(val_data), \"Test Data: \",len(test_data))"
      ]
    }
  ]
}